{
 "cells": [
  {
   "cell_type": "markdown",
   "id": "a7021653",
   "metadata": {},
   "source": [
    "### Обработка данных "
   ]
  },
  {
   "cell_type": "code",
   "execution_count": 1,
   "id": "d572b811",
   "metadata": {},
   "outputs": [],
   "source": [
    "import torch\n",
    "import torch.nn as nn\n",
    "import torch.optim as optim\n",
    "from random import randint\n",
    "import re"
   ]
  },
  {
   "cell_type": "code",
   "execution_count": 2,
   "id": "894f83ef",
   "metadata": {},
   "outputs": [],
   "source": [
    "def caesar_cipher(text: str, k: int) -> str:\n",
    "    encrypted_text = \"\"\n",
    "    for s in text:\n",
    "        order = new_order = ord(s)\n",
    "        if s.isalpha():\n",
    "            new_order = order + k\n",
    "            if s.isupper():\n",
    "                if new_order > ord(\"Я\"):\n",
    "                    new_order = ord('А') + order + k - ord('Я') - 1\n",
    "            else:\n",
    "                if new_order > ord(\"я\"):\n",
    "                    new_order = ord('а') + order + k - ord('я') - 1\n",
    "        encrypted_text += chr(new_order)\n",
    "    return encrypted_text"
   ]
  },
  {
   "cell_type": "code",
   "execution_count": 3,
   "id": "09fc9d3c",
   "metadata": {},
   "outputs": [],
   "source": [
    "CHARS = list('абвгдежзийклмнопрстуфхцчшщъыьэюя ')\n",
    "INDEX_TO_CHAR = ['none'] + [w for w in CHARS]\n",
    "CHAR_TO_INDEX = {w: i for i, w in enumerate(INDEX_TO_CHAR)}"
   ]
  },
  {
   "cell_type": "code",
   "execution_count": 4,
   "id": "022cd1d0",
   "metadata": {},
   "outputs": [],
   "source": [
    "# все строки списками из индексов\n",
    "def raw_to_indexes(lines: list[str]):\n",
    "    indexes = torch.zeros((len(lines), MAX_LEN), dtype=int)\n",
    "    for i in range(len(lines)):\n",
    "        if raw_lines[i]:\n",
    "            for j, w in enumerate(lines[i]):\n",
    "                if j >= MAX_LEN: break\n",
    "                indexes[i, j] = CHAR_TO_INDEX.get(w, CHAR_TO_INDEX['none'])\n",
    "    return indexes"
   ]
  },
  {
   "cell_type": "code",
   "execution_count": 5,
   "id": "0a15e5ef",
   "metadata": {},
   "outputs": [],
   "source": [
    "# обучающие данные\n",
    "MAX_LEN = 30\n",
    "\n",
    "# список всех строк\n",
    "with open('datasets/onegin.txt', 'r', encoding='utf-8') as file:\n",
    "    raw_lines = [re.sub(r'[^а-яА-Я ]*', '', line.strip().lower()) for line in file.readlines()]\n",
    "    \n",
    "# список всех строк (зашифрованный)\n",
    "encrypted_raw_lines = [caesar_cipher(i, randint(1,10)) for i in raw_lines]\n",
    "\n",
    "# все строки списками из индексов\n",
    "indexes = raw_to_indexes(raw_lines)\n",
    "\n",
    "# все зашифрованные строки списками из индексов\n",
    "encrypted_indexes = raw_to_indexes(encrypted_raw_lines)"
   ]
  },
  {
   "cell_type": "markdown",
   "id": "286081e6",
   "metadata": {},
   "source": [
    "### Полученные тензоры данных"
   ]
  },
  {
   "cell_type": "code",
   "execution_count": 6,
   "id": "9dae13b4",
   "metadata": {
    "scrolled": true
   },
   "outputs": [
    {
     "data": {
      "text/plain": [
       "['мой дядя самых честных правил',\n",
       " 'когда не в шутку занемог',\n",
       " 'он уважать себя заставил']"
      ]
     },
     "execution_count": 6,
     "metadata": {},
     "output_type": "execute_result"
    }
   ],
   "source": [
    "raw_lines[0:3]"
   ]
  },
  {
   "cell_type": "code",
   "execution_count": 7,
   "id": "e43de2f0",
   "metadata": {
    "scrolled": true
   },
   "outputs": [
    {
     "data": {
      "text/plain": [
       "['орл жбжб увоэч щзуфпэч ствдкн',\n",
       " 'рфйкж ул и ющшрщ нжултфй',\n",
       " 'хф ъйзнзщг шмиж озшщзйпт']"
      ]
     },
     "execution_count": 7,
     "metadata": {},
     "output_type": "execute_result"
    }
   ],
   "source": [
    "encrypted_raw_lines[0:3]"
   ]
  },
  {
   "cell_type": "code",
   "execution_count": 8,
   "id": "3280b8b9",
   "metadata": {},
   "outputs": [
    {
     "data": {
      "text/plain": [
       "tensor([[13, 15, 10, 33,  5, 32,  5, 32, 33, 18,  1, 13, 28, 22, 33, 24,  6, 18,\n",
       "         19, 14, 28, 22, 33, 16, 17,  1,  3,  9, 12,  0],\n",
       "        [11, 15,  4,  5,  1, 33, 14,  6, 33,  3, 33, 25, 20, 19, 11, 20, 33,  8,\n",
       "          1, 14,  6, 13, 15,  4,  0,  0,  0,  0,  0,  0],\n",
       "        [15, 14, 33, 20,  3,  1,  7,  1, 19, 29, 33, 18,  6,  2, 32, 33,  8,  1,\n",
       "         18, 19,  1,  3,  9, 12,  0,  0,  0,  0,  0,  0]])"
      ]
     },
     "execution_count": 8,
     "metadata": {},
     "output_type": "execute_result"
    }
   ],
   "source": [
    "indexes[0:3]"
   ]
  },
  {
   "cell_type": "code",
   "execution_count": 9,
   "id": "771f6233",
   "metadata": {},
   "outputs": [
    {
     "data": {
      "text/plain": [
       "tensor([[15, 17, 12, 33,  7,  2,  7,  2, 33, 20,  3, 15, 30, 24, 33, 26,  8, 20,\n",
       "         21, 16, 30, 24, 33, 18, 19,  3,  5, 11, 14,  0],\n",
       "        [17, 21, 10, 11,  7, 33, 20, 12, 33,  9, 33, 31, 26, 25, 17, 26, 33, 14,\n",
       "          7, 20, 12, 19, 21, 10,  0,  0,  0,  0,  0,  0],\n",
       "        [22, 21, 33, 27, 10,  8, 14,  8, 26,  4, 33, 25, 13,  9,  7, 33, 15,  8,\n",
       "         25, 26,  8, 10, 16, 19,  0,  0,  0,  0,  0,  0]])"
      ]
     },
     "execution_count": 9,
     "metadata": {},
     "output_type": "execute_result"
    }
   ],
   "source": [
    "encrypted_indexes[0:3]"
   ]
  },
  {
   "cell_type": "code",
   "execution_count": 10,
   "id": "fb3d34e1",
   "metadata": {},
   "outputs": [
    {
     "data": {
      "text/plain": [
       "(torch.Size([1452, 30]), torch.Size([1452, 30]))"
      ]
     },
     "execution_count": 10,
     "metadata": {},
     "output_type": "execute_result"
    }
   ],
   "source": [
    "indexes.shape, encrypted_indexes.shape # 1452 строки, длиной MAX_LEN символов"
   ]
  },
  {
   "cell_type": "markdown",
   "id": "68ec93eb",
   "metadata": {},
   "source": [
    "### Создание и обучение модели "
   ]
  },
  {
   "cell_type": "code",
   "execution_count": 11,
   "id": "406815d8",
   "metadata": {},
   "outputs": [],
   "source": [
    "class Decryptor(nn.Module):\n",
    "    def __init__(self, input_size, hidden_size, output_size):\n",
    "        super(Decryptor, self).__init__()\n",
    "        self.embedding = nn.Embedding(input_size, 64)\n",
    "        self.rnn = nn.GRU(64, hidden_size, batch_first=True)\n",
    "        self.linear = nn.Linear(hidden_size, output_size)\n",
    "\n",
    "    def forward(self, input):\n",
    "        embedded = self.embedding(input)\n",
    "        output, _ = self.rnn(embedded)\n",
    "        output = self.linear(output)\n",
    "        return output"
   ]
  },
  {
   "cell_type": "code",
   "execution_count": 12,
   "id": "4fba9010",
   "metadata": {},
   "outputs": [],
   "source": [
    "input_size = len(CHAR_TO_INDEX)\n",
    "hidden_size = 256\n",
    "output_size = len(CHAR_TO_INDEX)"
   ]
  },
  {
   "cell_type": "markdown",
   "id": "49f99d06",
   "metadata": {},
   "source": [
    "### <проверка размерностей>"
   ]
  },
  {
   "cell_type": "code",
   "execution_count": 13,
   "id": "9873754e",
   "metadata": {},
   "outputs": [],
   "source": [
    "embedding = nn.Embedding(input_size, 64)\n",
    "rnn = nn.GRU(64, hidden_size, batch_first=True)\n",
    "linear = nn.Linear(hidden_size, output_size)"
   ]
  },
  {
   "cell_type": "code",
   "execution_count": 14,
   "id": "de06aba7",
   "metadata": {},
   "outputs": [
    {
     "data": {
      "text/plain": [
       "torch.Size([3, 30, 64])"
      ]
     },
     "execution_count": 14,
     "metadata": {},
     "output_type": "execute_result"
    }
   ],
   "source": [
    "e = embedding(indexes[0:3])\n",
    "e.shape"
   ]
  },
  {
   "cell_type": "code",
   "execution_count": 15,
   "id": "5a3baf77",
   "metadata": {},
   "outputs": [
    {
     "data": {
      "text/plain": [
       "torch.Size([3, 30, 256])"
      ]
     },
     "execution_count": 15,
     "metadata": {},
     "output_type": "execute_result"
    }
   ],
   "source": [
    "r = rnn(e)[0]\n",
    "r.shape"
   ]
  },
  {
   "cell_type": "code",
   "execution_count": 16,
   "id": "1ac25a07",
   "metadata": {},
   "outputs": [
    {
     "data": {
      "text/plain": [
       "torch.Size([3, 30, 34])"
      ]
     },
     "execution_count": 16,
     "metadata": {},
     "output_type": "execute_result"
    }
   ],
   "source": [
    "lin = linear(r)\n",
    "lin.shape"
   ]
  },
  {
   "cell_type": "markdown",
   "id": "a6d40fbe",
   "metadata": {},
   "source": [
    "### <проверка размерностей>"
   ]
  },
  {
   "cell_type": "code",
   "execution_count": 17,
   "id": "2f27c417",
   "metadata": {},
   "outputs": [],
   "source": [
    "model = Decryptor(input_size, hidden_size, output_size)"
   ]
  },
  {
   "cell_type": "code",
   "execution_count": 18,
   "id": "f0711f88",
   "metadata": {},
   "outputs": [],
   "source": [
    "criterion = nn.CrossEntropyLoss()\n",
    "optimizer = optim.Adam(model.parameters(), lr=0.001)"
   ]
  },
  {
   "cell_type": "code",
   "execution_count": 19,
   "id": "59609692",
   "metadata": {},
   "outputs": [
    {
     "name": "stdout",
     "output_type": "stream",
     "text": [
      "Epoch: 10, Loss: 1.17266047000885\n",
      "Epoch: 20, Loss: 0.7597644329071045\n",
      "Epoch: 30, Loss: 0.5062811970710754\n",
      "Epoch: 40, Loss: 0.33038854598999023\n",
      "Epoch: 50, Loss: 0.3306637108325958\n",
      "Epoch: 60, Loss: 0.2194177806377411\n",
      "Epoch: 70, Loss: 0.14344286918640137\n",
      "Epoch: 80, Loss: 0.12009724974632263\n",
      "Epoch: 90, Loss: 0.1056441143155098\n",
      "Epoch: 100, Loss: 0.09641613066196442\n",
      "Epoch: 110, Loss: 0.0903274416923523\n",
      "Epoch: 120, Loss: 0.08618305623531342\n",
      "Epoch: 130, Loss: 0.08327937871217728\n",
      "Epoch: 140, Loss: 0.08120624721050262\n",
      "Epoch: 150, Loss: 0.07968523353338242\n",
      "Epoch: 160, Loss: 0.0785425528883934\n",
      "Epoch: 170, Loss: 0.07766758650541306\n",
      "Epoch: 180, Loss: 0.07698649913072586\n",
      "Epoch: 190, Loss: 0.07644901424646378\n",
      "Epoch: 200, Loss: 0.07602030783891678\n"
     ]
    }
   ],
   "source": [
    "num_epochs = 200\n",
    "for epoch in range(num_epochs):\n",
    "    \n",
    "    for i in range(int(len(indexes) /100)):\n",
    "        X_batch = encrypted_indexes[i * 100 : (i + 1) * 100] # 100 x 30\n",
    "        Y_batch = indexes[i * 100 : (i + 1) * 100] # 100 x 30\n",
    "        Y_batch = Y_batch.flatten() # 3000\n",
    "        \n",
    "        optimizer.zero_grad()\n",
    "        \n",
    "        output = model(X_batch) # 100 x 30 x 64 ->  100 x 30 x 256 -> 100 x 30 x 34\n",
    "        output = output.view(-1, output_size) # 3000 x 34\n",
    "        \n",
    "        loss = criterion(output, Y_batch)\n",
    "        loss.backward()\n",
    "        optimizer.step()\n",
    "\n",
    "    if (epoch + 1) % 10 == 0:\n",
    "        print(f'Epoch: {epoch + 1}, Loss: {loss.item()}')"
   ]
  },
  {
   "cell_type": "markdown",
   "id": "44ae8a6d",
   "metadata": {},
   "source": [
    "### Тестирование данных (обучающая выборка)"
   ]
  },
  {
   "cell_type": "code",
   "execution_count": 20,
   "id": "18d2283c",
   "metadata": {},
   "outputs": [],
   "source": [
    "with torch.no_grad():\n",
    "    output = model(encrypted_indexes)\n",
    "    predicted_indexes = torch.argmax(output, dim=2)\n",
    "    decrypted_indexes = predicted_indexes.numpy()\n",
    "\n",
    "# Расшифрованные строки\n",
    "decrypted_strings = []\n",
    "for decrypted_index in decrypted_indexes:\n",
    "    decrypted_string = ''.join([INDEX_TO_CHAR[i] for i in decrypted_index if i != 0])\n",
    "    decrypted_strings.append(decrypted_string)"
   ]
  },
  {
   "cell_type": "code",
   "execution_count": 21,
   "id": "6c9742ee",
   "metadata": {
    "scrolled": true
   },
   "outputs": [
    {
     "data": {
      "text/plain": [
       "['иой дядя самых честных правил',\n",
       " 'иогда не в шутку занемог',\n",
       " 'по уважать себя заставил',\n",
       " 'к лучше выдумать не мог',\n",
       " 'иго пример другим наука',\n",
       " 'по боже мой какая скука',\n",
       " 'п больным сидеть и день и ночь',\n",
       " 'не отходя ни шагу прочь',\n",
       " 'какое низкое коварство',\n",
       " 'полуживого забавлять',\n",
       " 'иму подушки поправлять',\n",
       " 'пачально подносить лекарство',\n",
       " 'вздыхать и думать про себя',\n",
       " 'иогда же черт возьмет тебя',\n",
       " '',\n",
       " 'так думал молодой повеса',\n",
       " 'иетя в пыли на почтовых',\n",
       " 'всевышней волею зевеса',\n",
       " 'наследник всех своих родных',\n",
       " 'иосзья людмилы и руслана']"
      ]
     },
     "execution_count": 21,
     "metadata": {},
     "output_type": "execute_result"
    }
   ],
   "source": [
    "decrypted_strings[0:20]"
   ]
  },
  {
   "cell_type": "markdown",
   "id": "2f00a7c9",
   "metadata": {},
   "source": [
    "### Тестирование данных (тестовая выборка - onegin_test)"
   ]
  },
  {
   "cell_type": "code",
   "execution_count": 22,
   "id": "10a42417",
   "metadata": {},
   "outputs": [
    {
     "data": {
      "text/plain": [
       "['пу что ж ты едешь очень жаль',\n",
       " 'ич уочшео тлучсоп ке улрвне св',\n",
       " 'увидеть мне филлиду эту',\n",
       " 'поедлет з мыслей и пера',\n",
       " 'и сеез и рифм  ',\n",
       " 'представь меня  съ чттичь  нет',\n",
       " ' ч пад  когда же  хоть сейчас',\n",
       " 'пои с очотой примут нас',\n",
       " 'иоедем  поскакали други',\n",
       " 'вемомуа ло твуурчены',\n",
       " 'пнрой тяжелые услуги',\n",
       " 'вортеопиилной старины',\n",
       " 'иакые известный угошенья',\n",
       " 'иесут ма блюдецках варенья',\n",
       " 'на ттолик ставят вощаной',\n",
       " 'вувшин с брусничною водой',\n",
       " 'пои дорогой самой краткой',\n",
       " 'вомой метят во весь ооор ',\n",
       " 'накалы моврлтчадл ткоюдиои',\n",
       " 'вероев наших разговор']"
      ]
     },
     "execution_count": 22,
     "metadata": {},
     "output_type": "execute_result"
    }
   ],
   "source": [
    "# список всех строк\n",
    "with open('datasets/onegin_test.txt', 'r', encoding='utf-8') as file:\n",
    "    raw_lines = [re.sub(r'[^а-яА-Я ]*', '', line.strip().lower()) for line in file.readlines()]\n",
    "    \n",
    "# список всех строк (зашифрованный)\n",
    "encrypted_raw_lines = [caesar_cipher(i, randint(1,10)) for i in raw_lines]\n",
    "\n",
    "# все строки списками из индексов\n",
    "indexes = raw_to_indexes(raw_lines)\n",
    "\n",
    "# все зашифрованные строки списками из индексов\n",
    "encrypted_indexes = raw_to_indexes(encrypted_raw_lines)\n",
    "\n",
    "with torch.no_grad():\n",
    "    output = model(encrypted_indexes)\n",
    "    predicted_indexes = torch.argmax(output, dim=2)\n",
    "    decrypted_indexes = predicted_indexes.numpy()\n",
    "\n",
    "# Расшифрованные строки\n",
    "decrypted_strings = []\n",
    "for decrypted_index in decrypted_indexes:\n",
    "    decrypted_string = ''.join([INDEX_TO_CHAR[i] for i in decrypted_index if i != 0])\n",
    "    decrypted_strings.append(decrypted_string)\n",
    "    \n",
    "decrypted_strings[20:40]"
   ]
  }
 ],
 "metadata": {
  "kernelspec": {
   "display_name": "Python 3 (ipykernel)",
   "language": "python",
   "name": "python3"
  },
  "language_info": {
   "codemirror_mode": {
    "name": "ipython",
    "version": 3
   },
   "file_extension": ".py",
   "mimetype": "text/x-python",
   "name": "python",
   "nbconvert_exporter": "python",
   "pygments_lexer": "ipython3",
   "version": "3.9.13"
  }
 },
 "nbformat": 4,
 "nbformat_minor": 5
}
