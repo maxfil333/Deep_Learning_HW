{
 "cells": [
  {
   "cell_type": "markdown",
   "id": "a7021653",
   "metadata": {},
   "source": [
    "### Обработка данных "
   ]
  },
  {
   "cell_type": "code",
   "execution_count": 1,
   "id": "d572b811",
   "metadata": {},
   "outputs": [],
   "source": [
    "import torch\n",
    "import torch.nn as nn\n",
    "import torch.optim as optim\n",
    "from random import randint\n",
    "import re"
   ]
  },
  {
   "cell_type": "code",
   "execution_count": 2,
   "id": "894f83ef",
   "metadata": {},
   "outputs": [],
   "source": [
    "def caesar_cipher(text: str, k: int) -> str:\n",
    "    encrypted_text = \"\"\n",
    "    for s in text:\n",
    "        order = new_order = ord(s)\n",
    "        if s.isalpha():\n",
    "            new_order = order + k\n",
    "            if s.isupper():\n",
    "                if new_order > ord(\"Я\"):\n",
    "                    new_order = ord('А') + order + k - ord('Я') - 1\n",
    "            else:\n",
    "                if new_order > ord(\"я\"):\n",
    "                    new_order = ord('а') + order + k - ord('я') - 1\n",
    "        encrypted_text += chr(new_order)\n",
    "    return encrypted_text"
   ]
  },
  {
   "cell_type": "code",
   "execution_count": 3,
   "id": "09fc9d3c",
   "metadata": {},
   "outputs": [],
   "source": [
    "CHARS = list('абвгдежзийклмнопрстуфхцчшщъыьэюя ')\n",
    "INDEX_TO_CHAR = ['none'] + [w for w in CHARS]\n",
    "CHAR_TO_INDEX = {w: i for i, w in enumerate(INDEX_TO_CHAR)}"
   ]
  },
  {
   "cell_type": "code",
   "execution_count": 4,
   "id": "022cd1d0",
   "metadata": {},
   "outputs": [],
   "source": [
    "# все строки списками из индексов\n",
    "def raw_to_indexes(lines: list[str]):\n",
    "    indexes = torch.zeros((len(lines), MAX_LEN), dtype=int)\n",
    "    for i in range(len(lines)):\n",
    "        if raw_lines[i]:\n",
    "            for j, w in enumerate(lines[i]):\n",
    "                if j >= MAX_LEN: break\n",
    "                indexes[i, j] = CHAR_TO_INDEX.get(w, CHAR_TO_INDEX['none'])\n",
    "    return indexes"
   ]
  },
  {
   "cell_type": "code",
   "execution_count": 5,
   "id": "0a15e5ef",
   "metadata": {},
   "outputs": [],
   "source": [
    "# обучающие данные\n",
    "MAX_LEN = 30\n",
    "\n",
    "# список всех строк\n",
    "with open('datasets/onegin.txt', 'r', encoding='utf-8') as file:\n",
    "    raw_lines = [re.sub(r'[^а-яА-Я ]*', '', line.strip().lower()) for line in file.readlines()]\n",
    "    \n",
    "# список всех строк (зашифрованный)\n",
    "encrypted_raw_lines = [caesar_cipher(i, randint(1,10)) for i in raw_lines]\n",
    "\n",
    "# все строки списками из индексов\n",
    "indexes = raw_to_indexes(raw_lines)\n",
    "\n",
    "# все зашифрованные строки списками из индексов\n",
    "encrypted_indexes = raw_to_indexes(encrypted_raw_lines)"
   ]
  },
  {
   "cell_type": "markdown",
   "id": "286081e6",
   "metadata": {},
   "source": [
    "### Полученные тензоры данных"
   ]
  },
  {
   "cell_type": "code",
   "execution_count": 6,
   "id": "9dae13b4",
   "metadata": {
    "scrolled": true
   },
   "outputs": [
    {
     "data": {
      "text/plain": [
       "['мой дядя самых честных правил',\n",
       " 'когда не в шутку занемог',\n",
       " 'он уважать себя заставил']"
      ]
     },
     "execution_count": 6,
     "metadata": {},
     "output_type": "execute_result"
    }
   ],
   "source": [
    "raw_lines[0:3]"
   ]
  },
  {
   "cell_type": "code",
   "execution_count": 7,
   "id": "e43de2f0",
   "metadata": {
    "scrolled": true
   },
   "outputs": [
    {
     "data": {
      "text/plain": [
       "['ртн игиг хдрящ ыйхцсящ уфджмп',\n",
       " 'лпдеб ож г щфулф ибожнпд',\n",
       " 'рп хдвивфю узгб йвуфвдкн']"
      ]
     },
     "execution_count": 7,
     "metadata": {},
     "output_type": "execute_result"
    }
   ],
   "source": [
    "encrypted_raw_lines[0:3]"
   ]
  },
  {
   "cell_type": "code",
   "execution_count": 8,
   "id": "3280b8b9",
   "metadata": {},
   "outputs": [
    {
     "data": {
      "text/plain": [
       "tensor([[13, 15, 10, 33,  5, 32,  5, 32, 33, 18,  1, 13, 28, 22, 33, 24,  6, 18,\n",
       "         19, 14, 28, 22, 33, 16, 17,  1,  3,  9, 12,  0],\n",
       "        [11, 15,  4,  5,  1, 33, 14,  6, 33,  3, 33, 25, 20, 19, 11, 20, 33,  8,\n",
       "          1, 14,  6, 13, 15,  4,  0,  0,  0,  0,  0,  0],\n",
       "        [15, 14, 33, 20,  3,  1,  7,  1, 19, 29, 33, 18,  6,  2, 32, 33,  8,  1,\n",
       "         18, 19,  1,  3,  9, 12,  0,  0,  0,  0,  0,  0]])"
      ]
     },
     "execution_count": 8,
     "metadata": {},
     "output_type": "execute_result"
    }
   ],
   "source": [
    "indexes[0:3]"
   ]
  },
  {
   "cell_type": "code",
   "execution_count": 9,
   "id": "771f6233",
   "metadata": {},
   "outputs": [
    {
     "data": {
      "text/plain": [
       "tensor([[17, 19, 14, 33,  9,  4,  9,  4, 33, 22,  5, 17, 32, 26, 33, 28, 10, 22,\n",
       "         23, 18, 32, 26, 33, 20, 21,  5,  7, 13, 16,  0],\n",
       "        [12, 16,  5,  6,  2, 33, 15,  7, 33,  4, 33, 26, 21, 20, 12, 21, 33,  9,\n",
       "          2, 15,  7, 14, 16,  5,  0,  0,  0,  0,  0,  0],\n",
       "        [17, 16, 33, 22,  5,  3,  9,  3, 21, 31, 33, 20,  8,  4,  2, 33, 10,  3,\n",
       "         20, 21,  3,  5, 11, 14,  0,  0,  0,  0,  0,  0]])"
      ]
     },
     "execution_count": 9,
     "metadata": {},
     "output_type": "execute_result"
    }
   ],
   "source": [
    "encrypted_indexes[0:3]"
   ]
  },
  {
   "cell_type": "code",
   "execution_count": 10,
   "id": "fb3d34e1",
   "metadata": {},
   "outputs": [
    {
     "data": {
      "text/plain": [
       "(torch.Size([1452, 30]), torch.Size([1452, 30]))"
      ]
     },
     "execution_count": 10,
     "metadata": {},
     "output_type": "execute_result"
    }
   ],
   "source": [
    "indexes.shape, encrypted_indexes.shape # 1452 строки, длиной MAX_LEN символов"
   ]
  },
  {
   "cell_type": "markdown",
   "id": "68ec93eb",
   "metadata": {},
   "source": [
    "### Создание и обучение модели "
   ]
  },
  {
   "cell_type": "code",
   "execution_count": 11,
   "id": "406815d8",
   "metadata": {},
   "outputs": [],
   "source": [
    "class Decryptor(nn.Module):\n",
    "    def __init__(self, input_size, hidden_size, output_size):\n",
    "        super(Decryptor, self).__init__()\n",
    "        self.embedding = nn.Embedding(input_size, 64)\n",
    "        self.rnn = nn.GRU(64, hidden_size, batch_first=True)\n",
    "        self.linear = nn.Linear(hidden_size, output_size)\n",
    "\n",
    "    def forward(self, input):\n",
    "        embedded = self.embedding(input)\n",
    "        output, _ = self.rnn(embedded)\n",
    "        output = self.linear(output)\n",
    "        return output"
   ]
  },
  {
   "cell_type": "code",
   "execution_count": 12,
   "id": "4fba9010",
   "metadata": {},
   "outputs": [],
   "source": [
    "input_size = len(CHAR_TO_INDEX)\n",
    "hidden_size = 256\n",
    "output_size = len(CHAR_TO_INDEX)"
   ]
  },
  {
   "cell_type": "code",
   "execution_count": 13,
   "id": "2f27c417",
   "metadata": {},
   "outputs": [],
   "source": [
    "model = Decryptor(input_size, hidden_size, output_size)"
   ]
  },
  {
   "cell_type": "code",
   "execution_count": 14,
   "id": "f0711f88",
   "metadata": {},
   "outputs": [],
   "source": [
    "criterion = nn.CrossEntropyLoss()\n",
    "optimizer = optim.Adam(model.parameters(), lr=0.001)"
   ]
  },
  {
   "cell_type": "code",
   "execution_count": 15,
   "id": "59609692",
   "metadata": {},
   "outputs": [
    {
     "name": "stdout",
     "output_type": "stream",
     "text": [
      "Epoch: 10, Loss: 1.1807951927185059\n",
      "Epoch: 20, Loss: 0.8264318704605103\n",
      "Epoch: 30, Loss: 0.5715091228485107\n",
      "Epoch: 40, Loss: 0.41431865096092224\n",
      "Epoch: 50, Loss: 0.27640530467033386\n",
      "Epoch: 60, Loss: 0.3664447069168091\n",
      "Epoch: 70, Loss: 0.16288608312606812\n",
      "Epoch: 80, Loss: 0.1294758915901184\n",
      "Epoch: 90, Loss: 0.11043868213891983\n",
      "Epoch: 100, Loss: 0.09863854944705963\n",
      "Epoch: 110, Loss: 0.0909227803349495\n",
      "Epoch: 120, Loss: 0.08571521192789078\n",
      "Epoch: 130, Loss: 0.08211541920900345\n",
      "Epoch: 140, Loss: 0.07956685870885849\n",
      "Epoch: 150, Loss: 0.0777130052447319\n",
      "Epoch: 160, Loss: 0.07633092999458313\n",
      "Epoch: 170, Loss: 0.07527927309274673\n",
      "Epoch: 180, Loss: 0.07446476072072983\n",
      "Epoch: 190, Loss: 0.07382403314113617\n",
      "Epoch: 200, Loss: 0.07331325113773346\n"
     ]
    }
   ],
   "source": [
    "num_epochs = 200\n",
    "for epoch in range(num_epochs):\n",
    "    \n",
    "    for i in range(int(len(indexes) /100)):\n",
    "        X_batch = encrypted_indexes[i * 100 : (i + 1) * 100] # 100 x 20\n",
    "        Y_batch = indexes[i * 100 : (i + 1) * 100]           # 100 x 20\n",
    "        Y_batch = Y_batch.flatten()                          # 2000\n",
    "        \n",
    "        optimizer.zero_grad()\n",
    "        \n",
    "        output = model(X_batch)                              # 100 x 20 x 64\n",
    "        output = output.view(-1, output_size)                # 2000 x 64\n",
    "        \n",
    "        loss = criterion(output, Y_batch)\n",
    "        loss.backward()\n",
    "        optimizer.step()\n",
    "\n",
    "    if (epoch + 1) % 10 == 0:\n",
    "        print(f'Epoch: {epoch + 1}, Loss: {loss.item()}')"
   ]
  },
  {
   "cell_type": "markdown",
   "id": "44ae8a6d",
   "metadata": {},
   "source": [
    "### Тестирование данных (обучающая выборка)"
   ]
  },
  {
   "cell_type": "code",
   "execution_count": 16,
   "id": "18d2283c",
   "metadata": {},
   "outputs": [],
   "source": [
    "with torch.no_grad():\n",
    "    output = model(encrypted_indexes)\n",
    "    predicted_indexes = torch.argmax(output, dim=2)\n",
    "    decrypted_indexes = predicted_indexes.numpy()\n",
    "\n",
    "# Расшифрованные строки\n",
    "decrypted_strings = []\n",
    "for decrypted_index in decrypted_indexes:\n",
    "    decrypted_string = ''.join([INDEX_TO_CHAR[i] for i in decrypted_index if i != 0])\n",
    "    decrypted_strings.append(decrypted_string)"
   ]
  },
  {
   "cell_type": "code",
   "execution_count": 17,
   "id": "6c9742ee",
   "metadata": {
    "scrolled": true
   },
   "outputs": [
    {
     "data": {
      "text/plain": [
       "['ной дядя самых честных правил',\n",
       " 'иогда не в шутку занемог',\n",
       " 'но уважать себя заставил',\n",
       " 'в лучше выдумать не мог',\n",
       " 'вво пример другим наука',\n",
       " 'ио боже мой какая скука',\n",
       " 'п больным сидеть и день и ночь',\n",
       " 'не отходя ни шагу прочь',\n",
       " 'иакое низкое коварство',\n",
       " 'кнлуживого забавлять',\n",
       " 'иму подушки поправлять',\n",
       " 'иечально подносить лекарство',\n",
       " 'вздыхать и думать про себя',\n",
       " 'иогда же черт возьмет тебя',\n",
       " '',\n",
       " 'пак думал молодой повеса',\n",
       " 'плтя в пыли на почтовых',\n",
       " 'исевышней волею зевеса',\n",
       " 'наследник всех своих родных',\n",
       " 'воузья людмилы и руслана']"
      ]
     },
     "execution_count": 17,
     "metadata": {},
     "output_type": "execute_result"
    }
   ],
   "source": [
    "decrypted_strings[0:20]"
   ]
  },
  {
   "cell_type": "markdown",
   "id": "2f00a7c9",
   "metadata": {},
   "source": [
    "### Тестирование данных (тестовая выборка - onegin_test)"
   ]
  },
  {
   "cell_type": "code",
   "execution_count": 18,
   "id": "10a42417",
   "metadata": {},
   "outputs": [
    {
     "data": {
      "text/plain": [
       "['ну что ж ты едешь очень еаль',\n",
       " 'чт оируюз ивкозеж ба лгйьеь иы',\n",
       " 'нездихь ори хкннлец яху',\n",
       " 'поедмет и мыслей и пера',\n",
       " 'и слез и риул  ',\n",
       " 'ноедртавь меня  ты чттишь  нет',\n",
       " ' д тад  лрежа из  чоть сейчас',\n",
       " 'ини с охотой примут нас',\n",
       " 'пнеден  поскакали други',\n",
       " 'аяились ио састочены',\n",
       " 'кнрой сазелые услуги',\n",
       " 'востеприимоой старины',\n",
       " 'песаз кигиуупый угрыенья',\n",
       " 'несут на блюдечках варенья',\n",
       " 'па столик ставят вошаной',\n",
       " 'иуачил с бруплихмою водой',\n",
       " 'пой еорогой самой краткой',\n",
       " 'ионни летят во весь опор ',\n",
       " 'пеперь подтлушаем украдиой',\n",
       " 'вдроеа люших раздовор']"
      ]
     },
     "execution_count": 18,
     "metadata": {},
     "output_type": "execute_result"
    }
   ],
   "source": [
    "# список всех строк\n",
    "with open('datasets/onegin_test.txt', 'r', encoding='utf-8') as file:\n",
    "    raw_lines = [re.sub(r'[^а-яА-Я ]*', '', line.strip().lower()) for line in file.readlines()]\n",
    "    \n",
    "# список всех строк (зашифрованный)\n",
    "encrypted_raw_lines = [caesar_cipher(i, randint(1,10)) for i in raw_lines]\n",
    "\n",
    "# все строки списками из индексов\n",
    "indexes = raw_to_indexes(raw_lines)\n",
    "\n",
    "# все зашифрованные строки списками из индексов\n",
    "encrypted_indexes = raw_to_indexes(encrypted_raw_lines)\n",
    "\n",
    "with torch.no_grad():\n",
    "    output = model(encrypted_indexes)\n",
    "    predicted_indexes = torch.argmax(output, dim=2)\n",
    "    decrypted_indexes = predicted_indexes.numpy()\n",
    "\n",
    "# Расшифрованные строки\n",
    "decrypted_strings = []\n",
    "for decrypted_index in decrypted_indexes:\n",
    "    decrypted_string = ''.join([INDEX_TO_CHAR[i] for i in decrypted_index if i != 0])\n",
    "    decrypted_strings.append(decrypted_string)\n",
    "    \n",
    "decrypted_strings[20:40]"
   ]
  }
 ],
 "metadata": {
  "kernelspec": {
   "display_name": "Python 3 (ipykernel)",
   "language": "python",
   "name": "python3"
  },
  "language_info": {
   "codemirror_mode": {
    "name": "ipython",
    "version": 3
   },
   "file_extension": ".py",
   "mimetype": "text/x-python",
   "name": "python",
   "nbconvert_exporter": "python",
   "pygments_lexer": "ipython3",
   "version": "3.9.13"
  }
 },
 "nbformat": 4,
 "nbformat_minor": 5
}
