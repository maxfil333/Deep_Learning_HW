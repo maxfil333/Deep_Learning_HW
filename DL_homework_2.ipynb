{
 "cells": [
  {
   "cell_type": "markdown",
   "id": "5b293d3c",
   "metadata": {},
   "source": [
    "Постройте модель на основе полносвязных слоёв для классификации Fashion MNIST из библиотеки torchvision.\n",
    "Получите качество на тестовой выборке не ниже 88%"
   ]
  },
  {
   "cell_type": "code",
   "execution_count": 1,
   "id": "4baf56d9",
   "metadata": {
    "scrolled": true
   },
   "outputs": [
    {
     "name": "stdout",
     "output_type": "stream",
     "text": [
      "Requirement already satisfied: torchvision in c:\\users\\admin\\anaconda3\\lib\\site-packages (0.15.2)\n",
      "Requirement already satisfied: requests in c:\\users\\admin\\anaconda3\\lib\\site-packages (from torchvision) (2.28.1)\n",
      "Requirement already satisfied: torch==2.0.1 in c:\\users\\admin\\anaconda3\\lib\\site-packages (from torchvision) (2.0.1)\n",
      "Requirement already satisfied: pillow!=8.3.*,>=5.3.0 in c:\\users\\admin\\anaconda3\\lib\\site-packages (from torchvision) (9.2.0)\n",
      "Requirement already satisfied: numpy in c:\\users\\admin\\anaconda3\\lib\\site-packages (from torchvision) (1.23.5)\n",
      "Requirement already satisfied: networkx in c:\\users\\admin\\anaconda3\\lib\\site-packages (from torch==2.0.1->torchvision) (2.8.4)\n",
      "Requirement already satisfied: typing-extensions in c:\\users\\admin\\anaconda3\\lib\\site-packages (from torch==2.0.1->torchvision) (4.3.0)\n",
      "Requirement already satisfied: jinja2 in c:\\users\\admin\\anaconda3\\lib\\site-packages (from torch==2.0.1->torchvision) (2.11.3)\n",
      "Requirement already satisfied: filelock in c:\\users\\admin\\anaconda3\\lib\\site-packages (from torch==2.0.1->torchvision) (3.6.0)\n",
      "Requirement already satisfied: sympy in c:\\users\\admin\\anaconda3\\lib\\site-packages (from torch==2.0.1->torchvision) (1.10.1)\n",
      "Requirement already satisfied: idna<4,>=2.5 in c:\\users\\admin\\anaconda3\\lib\\site-packages (from requests->torchvision) (3.3)\n",
      "Requirement already satisfied: charset-normalizer<3,>=2 in c:\\users\\admin\\anaconda3\\lib\\site-packages (from requests->torchvision) (2.0.4)\n",
      "Requirement already satisfied: certifi>=2017.4.17 in c:\\users\\admin\\anaconda3\\lib\\site-packages (from requests->torchvision) (2022.9.14)\n",
      "Requirement already satisfied: urllib3<1.27,>=1.21.1 in c:\\users\\admin\\anaconda3\\lib\\site-packages (from requests->torchvision) (1.26.11)\n",
      "Requirement already satisfied: MarkupSafe>=0.23 in c:\\users\\admin\\anaconda3\\lib\\site-packages (from jinja2->torch==2.0.1->torchvision) (2.0.1)\n",
      "Requirement already satisfied: mpmath>=0.19 in c:\\users\\admin\\anaconda3\\lib\\site-packages (from sympy->torch==2.0.1->torchvision) (1.2.1)\n"
     ]
    }
   ],
   "source": [
    "!pip install torchvision"
   ]
  },
  {
   "cell_type": "code",
   "execution_count": 2,
   "id": "f9eb1158",
   "metadata": {},
   "outputs": [],
   "source": [
    "import numpy as np\n",
    "import torch\n",
    "import torchvision as tv\n",
    "import time"
   ]
  },
  {
   "cell_type": "markdown",
   "id": "560d99e6",
   "metadata": {},
   "source": [
    "datasets: https://pytorch.org/vision/stable/datasets.html"
   ]
  },
  {
   "cell_type": "code",
   "execution_count": 3,
   "id": "7cfd6b3f",
   "metadata": {},
   "outputs": [
    {
     "name": "stdout",
     "output_type": "stream",
     "text": [
      "Downloading http://fashion-mnist.s3-website.eu-central-1.amazonaws.com/train-images-idx3-ubyte.gz\n",
      "Downloading http://fashion-mnist.s3-website.eu-central-1.amazonaws.com/train-images-idx3-ubyte.gz to .\\FashionMNIST\\raw\\train-images-idx3-ubyte.gz\n"
     ]
    },
    {
     "name": "stderr",
     "output_type": "stream",
     "text": [
      "100%|█████████████████████████████████████████████████████████████████| 26421880/26421880 [00:02<00:00, 9524816.08it/s]\n"
     ]
    },
    {
     "name": "stdout",
     "output_type": "stream",
     "text": [
      "Extracting .\\FashionMNIST\\raw\\train-images-idx3-ubyte.gz to .\\FashionMNIST\\raw\n",
      "\n",
      "Downloading http://fashion-mnist.s3-website.eu-central-1.amazonaws.com/train-labels-idx1-ubyte.gz\n",
      "Downloading http://fashion-mnist.s3-website.eu-central-1.amazonaws.com/train-labels-idx1-ubyte.gz to .\\FashionMNIST\\raw\\train-labels-idx1-ubyte.gz\n"
     ]
    },
    {
     "name": "stderr",
     "output_type": "stream",
     "text": [
      "100%|████████████████████████████████████████████████████████████████████████| 29515/29515 [00:00<00:00, 704617.10it/s]\n"
     ]
    },
    {
     "name": "stdout",
     "output_type": "stream",
     "text": [
      "Extracting .\\FashionMNIST\\raw\\train-labels-idx1-ubyte.gz to .\\FashionMNIST\\raw\n",
      "\n",
      "Downloading http://fashion-mnist.s3-website.eu-central-1.amazonaws.com/t10k-images-idx3-ubyte.gz\n",
      "Downloading http://fashion-mnist.s3-website.eu-central-1.amazonaws.com/t10k-images-idx3-ubyte.gz to .\\FashionMNIST\\raw\\t10k-images-idx3-ubyte.gz\n"
     ]
    },
    {
     "name": "stderr",
     "output_type": "stream",
     "text": [
      "100%|███████████████████████████████████████████████████████████████████| 4422102/4422102 [00:00<00:00, 7024934.72it/s]\n"
     ]
    },
    {
     "name": "stdout",
     "output_type": "stream",
     "text": [
      "Extracting .\\FashionMNIST\\raw\\t10k-images-idx3-ubyte.gz to .\\FashionMNIST\\raw\n",
      "\n",
      "Downloading http://fashion-mnist.s3-website.eu-central-1.amazonaws.com/t10k-labels-idx1-ubyte.gz\n",
      "Downloading http://fashion-mnist.s3-website.eu-central-1.amazonaws.com/t10k-labels-idx1-ubyte.gz to .\\FashionMNIST\\raw\\t10k-labels-idx1-ubyte.gz\n"
     ]
    },
    {
     "name": "stderr",
     "output_type": "stream",
     "text": [
      "100%|█████████████████████████████████████████████████████████████████████████| 5148/5148 [00:00<00:00, 5163146.10it/s]"
     ]
    },
    {
     "name": "stdout",
     "output_type": "stream",
     "text": [
      "Extracting .\\FashionMNIST\\raw\\t10k-labels-idx1-ubyte.gz to .\\FashionMNIST\\raw\n",
      "\n"
     ]
    },
    {
     "name": "stderr",
     "output_type": "stream",
     "text": [
      "\n"
     ]
    }
   ],
   "source": [
    "BATCH_SIZE=256\n",
    "\n",
    "train_dataset = tv.datasets.FashionMNIST('.', train=True, transform=tv.transforms.ToTensor(), download=True)\n",
    "test_dataset = tv.datasets.FashionMNIST('.', train=False, transform=tv.transforms.ToTensor(), download=True)\n",
    "train = torch.utils.data.DataLoader(train_dataset, batch_size=BATCH_SIZE)\n",
    "test = torch.utils.data.DataLoader(test_dataset, batch_size=BATCH_SIZE)"
   ]
  },
  {
   "cell_type": "code",
   "execution_count": 4,
   "id": "58b7325e",
   "metadata": {},
   "outputs": [
    {
     "data": {
      "text/plain": [
       "{'T-shirt/top': 0,\n",
       " 'Trouser': 1,\n",
       " 'Pullover': 2,\n",
       " 'Dress': 3,\n",
       " 'Coat': 4,\n",
       " 'Sandal': 5,\n",
       " 'Shirt': 6,\n",
       " 'Sneaker': 7,\n",
       " 'Bag': 8,\n",
       " 'Ankle boot': 9}"
      ]
     },
     "execution_count": 4,
     "metadata": {},
     "output_type": "execute_result"
    }
   ],
   "source": [
    "train_dataset.class_to_idx"
   ]
  },
  {
   "cell_type": "code",
   "execution_count": 5,
   "id": "52c0e5b3",
   "metadata": {},
   "outputs": [
    {
     "data": {
      "text/plain": [
       "torch.Size([60000, 28, 28])"
      ]
     },
     "execution_count": 5,
     "metadata": {},
     "output_type": "execute_result"
    }
   ],
   "source": [
    "train_dataset.data.shape"
   ]
  },
  {
   "cell_type": "markdown",
   "id": "f56c87a5",
   "metadata": {},
   "source": [
    "### Базовая модель (SGD)"
   ]
  },
  {
   "cell_type": "code",
   "execution_count": 6,
   "id": "ad44eb1f",
   "metadata": {},
   "outputs": [],
   "source": [
    "model = torch.nn.Sequential(\n",
    "    torch.nn.Flatten(),\n",
    "    torch.nn.Linear(784, 256),\n",
    "    torch.nn.ReLU(),\n",
    "    torch.nn.Linear(256, 10)\n",
    ")"
   ]
  },
  {
   "cell_type": "code",
   "execution_count": 7,
   "id": "4b5bfd83",
   "metadata": {},
   "outputs": [
    {
     "data": {
      "text/plain": [
       "Sequential(\n",
       "  (0): Flatten(start_dim=1, end_dim=-1)\n",
       "  (1): Linear(in_features=784, out_features=256, bias=True)\n",
       "  (2): ReLU()\n",
       "  (3): Linear(in_features=256, out_features=10, bias=True)\n",
       ")"
      ]
     },
     "execution_count": 7,
     "metadata": {},
     "output_type": "execute_result"
    }
   ],
   "source": [
    "model"
   ]
  },
  {
   "cell_type": "code",
   "execution_count": 8,
   "id": "eecd369a",
   "metadata": {},
   "outputs": [],
   "source": [
    "loss = torch.nn.CrossEntropyLoss()\n",
    "trainer = torch.optim.SGD(model.parameters(), lr=.01)\n",
    "num_epochs = 10"
   ]
  },
  {
   "cell_type": "code",
   "execution_count": 9,
   "id": "811f50b4",
   "metadata": {},
   "outputs": [],
   "source": [
    "def train_model():\n",
    "    for ep in range(num_epochs):\n",
    "        train_iters, train_passed  = 0, 0\n",
    "        train_loss, train_acc = 0., 0.\n",
    "        start=time.time()\n",
    "        \n",
    "        model.train()\n",
    "        for X, y in train:\n",
    "            trainer.zero_grad()\n",
    "            y_pred = model(X)\n",
    "            l = loss(y_pred, y)\n",
    "            l.backward()\n",
    "            trainer.step()\n",
    "            train_loss += l.item()\n",
    "            train_acc += (y_pred.argmax(dim=1) == y).sum().item()\n",
    "            train_iters += 1\n",
    "            train_passed += len(X)\n",
    "        \n",
    "        test_iters, test_passed  = 0, 0\n",
    "        test_loss, test_acc = 0., 0.\n",
    "        model.eval()\n",
    "        for X, y in test:\n",
    "            y_pred = model(X)\n",
    "            l = loss(y_pred, y)\n",
    "            test_loss += l.item()\n",
    "            test_acc += (y_pred.argmax(dim=1) == y).sum().item()\n",
    "            test_iters += 1\n",
    "            test_passed += len(X)\n",
    "            \n",
    "        print(\"ep: {}, taked: {:.3f}, train_loss: {:.3f}, train_acc: {:.3f}, test_loss: {:.3f}, test_acc: {:.3f}\"\n",
    "              .format(ep, time.time() - start, \n",
    "                      train_loss / train_iters, \n",
    "                      train_acc / train_passed,\n",
    "                      test_loss / test_iters, \n",
    "                      test_acc / test_passed)\n",
    "             )"
   ]
  },
  {
   "cell_type": "code",
   "execution_count": 10,
   "id": "b3c237e7",
   "metadata": {},
   "outputs": [
    {
     "name": "stdout",
     "output_type": "stream",
     "text": [
      "ep: 0, taked: 7.211, train_loss: 1.737, train_acc: 0.579, test_loss: 1.273, test_acc: 0.655\n",
      "ep: 1, taked: 6.950, train_loss: 1.064, train_acc: 0.675, test_loss: 0.939, test_acc: 0.680\n",
      "ep: 2, taked: 7.203, train_loss: 0.859, train_acc: 0.710, test_loss: 0.815, test_acc: 0.713\n",
      "ep: 3, taked: 6.821, train_loss: 0.767, train_acc: 0.740, test_loss: 0.746, test_acc: 0.737\n",
      "ep: 4, taked: 6.909, train_loss: 0.709, train_acc: 0.761, test_loss: 0.698, test_acc: 0.756\n",
      "ep: 5, taked: 7.013, train_loss: 0.667, train_acc: 0.777, test_loss: 0.662, test_acc: 0.770\n",
      "ep: 6, taked: 6.812, train_loss: 0.635, train_acc: 0.789, test_loss: 0.634, test_acc: 0.780\n",
      "ep: 7, taked: 7.186, train_loss: 0.609, train_acc: 0.798, test_loss: 0.612, test_acc: 0.787\n",
      "ep: 8, taked: 7.031, train_loss: 0.588, train_acc: 0.804, test_loss: 0.594, test_acc: 0.795\n",
      "ep: 9, taked: 7.287, train_loss: 0.570, train_acc: 0.810, test_loss: 0.579, test_acc: 0.801\n"
     ]
    }
   ],
   "source": [
    "train_model()"
   ]
  },
  {
   "cell_type": "markdown",
   "id": "6fdd05d4",
   "metadata": {},
   "source": [
    "### Модель (Adam)"
   ]
  },
  {
   "cell_type": "code",
   "execution_count": 11,
   "id": "4c85d43f",
   "metadata": {},
   "outputs": [],
   "source": [
    "model = torch.nn.Sequential(\n",
    "    torch.nn.Flatten(),\n",
    "    torch.nn.Linear(784, 256),\n",
    "    torch.nn.ReLU(),\n",
    "    torch.nn.Linear(256, 10)\n",
    ")"
   ]
  },
  {
   "cell_type": "code",
   "execution_count": 12,
   "id": "75f11223",
   "metadata": {},
   "outputs": [
    {
     "name": "stdout",
     "output_type": "stream",
     "text": [
      "ep: 0, taked: 7.775, train_loss: 0.522, train_acc: 0.812, test_loss: 0.435, test_acc: 0.839\n",
      "ep: 1, taked: 7.405, train_loss: 0.376, train_acc: 0.863, test_loss: 0.425, test_acc: 0.849\n",
      "ep: 2, taked: 7.554, train_loss: 0.346, train_acc: 0.872, test_loss: 0.403, test_acc: 0.857\n",
      "ep: 3, taked: 7.785, train_loss: 0.330, train_acc: 0.879, test_loss: 0.381, test_acc: 0.863\n",
      "ep: 4, taked: 7.347, train_loss: 0.316, train_acc: 0.883, test_loss: 0.389, test_acc: 0.861\n",
      "ep: 5, taked: 7.439, train_loss: 0.304, train_acc: 0.887, test_loss: 0.406, test_acc: 0.857\n",
      "ep: 6, taked: 7.519, train_loss: 0.293, train_acc: 0.892, test_loss: 0.429, test_acc: 0.855\n",
      "ep: 7, taked: 7.667, train_loss: 0.286, train_acc: 0.893, test_loss: 0.392, test_acc: 0.870\n",
      "ep: 8, taked: 7.179, train_loss: 0.278, train_acc: 0.896, test_loss: 0.419, test_acc: 0.864\n",
      "ep: 9, taked: 7.402, train_loss: 0.271, train_acc: 0.899, test_loss: 0.394, test_acc: 0.869\n"
     ]
    }
   ],
   "source": [
    "trainer = torch.optim.Adam(model.parameters(), lr=.01)\n",
    "train_model()"
   ]
  },
  {
   "cell_type": "markdown",
   "id": "65a254a8",
   "metadata": {},
   "source": [
    "### Модель (Adam) + дополнительный слой"
   ]
  },
  {
   "cell_type": "code",
   "execution_count": 13,
   "id": "e2164b42",
   "metadata": {},
   "outputs": [],
   "source": [
    "model = torch.nn.Sequential(\n",
    "    torch.nn.Flatten(),\n",
    "    torch.nn.Linear(784, 512),\n",
    "    torch.nn.ReLU(),\n",
    "    torch.nn.Linear(512, 256),\n",
    "    torch.nn.ReLU(),\n",
    "    torch.nn.Linear(256, 128),\n",
    "    torch.nn.ReLU(),\n",
    "    torch.nn.Linear(128, 10)\n",
    ")"
   ]
  },
  {
   "cell_type": "code",
   "execution_count": 14,
   "id": "99cd78cd",
   "metadata": {},
   "outputs": [
    {
     "name": "stdout",
     "output_type": "stream",
     "text": [
      "ep: 0, taked: 8.192, train_loss: 0.598, train_acc: 0.781, test_loss: 0.431, test_acc: 0.842\n",
      "ep: 1, taked: 8.358, train_loss: 0.394, train_acc: 0.856, test_loss: 0.407, test_acc: 0.856\n",
      "ep: 2, taked: 8.559, train_loss: 0.367, train_acc: 0.865, test_loss: 0.399, test_acc: 0.859\n",
      "ep: 3, taked: 9.034, train_loss: 0.341, train_acc: 0.875, test_loss: 0.393, test_acc: 0.860\n",
      "ep: 4, taked: 9.516, train_loss: 0.329, train_acc: 0.877, test_loss: 0.399, test_acc: 0.860\n",
      "ep: 5, taked: 9.455, train_loss: 0.315, train_acc: 0.882, test_loss: 0.404, test_acc: 0.865\n",
      "ep: 6, taked: 10.607, train_loss: 0.308, train_acc: 0.887, test_loss: 0.432, test_acc: 0.857\n",
      "ep: 7, taked: 9.691, train_loss: 0.308, train_acc: 0.886, test_loss: 0.410, test_acc: 0.860\n",
      "ep: 8, taked: 9.284, train_loss: 0.295, train_acc: 0.891, test_loss: 0.438, test_acc: 0.862\n",
      "ep: 9, taked: 9.442, train_loss: 0.292, train_acc: 0.893, test_loss: 0.408, test_acc: 0.866\n"
     ]
    }
   ],
   "source": [
    "trainer = torch.optim.Adam(model.parameters(), lr=.01)\n",
    "train_model()"
   ]
  },
  {
   "cell_type": "markdown",
   "id": "466eeb17",
   "metadata": {},
   "source": [
    "### Модель (Adam) + дополнительный слой + batch normalization"
   ]
  },
  {
   "cell_type": "code",
   "execution_count": 15,
   "id": "2fa002b1",
   "metadata": {},
   "outputs": [],
   "source": [
    "model = torch.nn.Sequential(\n",
    "    torch.nn.Flatten(),\n",
    "    torch.nn.Linear(784, 512),\n",
    "    torch.nn.ReLU(),\n",
    "    torch.nn.BatchNorm1d(512),\n",
    "    torch.nn.Linear(512, 256),\n",
    "    torch.nn.ReLU(),\n",
    "    torch.nn.BatchNorm1d(256),\n",
    "    torch.nn.Linear(256, 128),\n",
    "    torch.nn.ReLU(),\n",
    "    torch.nn.BatchNorm1d(128),\n",
    "    torch.nn.Linear(128, 10)\n",
    ")"
   ]
  },
  {
   "cell_type": "code",
   "execution_count": 16,
   "id": "315a8e33",
   "metadata": {},
   "outputs": [
    {
     "name": "stdout",
     "output_type": "stream",
     "text": [
      "ep: 0, taked: 8.697, train_loss: 0.469, train_acc: 0.827, test_loss: 0.453, test_acc: 0.822\n",
      "ep: 1, taked: 8.667, train_loss: 0.372, train_acc: 0.862, test_loss: 0.406, test_acc: 0.850\n",
      "ep: 2, taked: 8.515, train_loss: 0.336, train_acc: 0.876, test_loss: 0.395, test_acc: 0.856\n",
      "ep: 3, taked: 8.929, train_loss: 0.313, train_acc: 0.883, test_loss: 0.382, test_acc: 0.860\n",
      "ep: 4, taked: 8.994, train_loss: 0.293, train_acc: 0.891, test_loss: 0.375, test_acc: 0.864\n",
      "ep: 5, taked: 8.718, train_loss: 0.279, train_acc: 0.897, test_loss: 0.368, test_acc: 0.862\n",
      "ep: 6, taked: 9.073, train_loss: 0.268, train_acc: 0.901, test_loss: 0.371, test_acc: 0.870\n",
      "ep: 7, taked: 9.417, train_loss: 0.252, train_acc: 0.906, test_loss: 0.356, test_acc: 0.876\n",
      "ep: 8, taked: 8.873, train_loss: 0.247, train_acc: 0.907, test_loss: 0.386, test_acc: 0.880\n",
      "ep: 9, taked: 8.875, train_loss: 0.241, train_acc: 0.910, test_loss: 0.385, test_acc: 0.877\n"
     ]
    }
   ],
   "source": [
    "trainer = torch.optim.Adam(model.parameters(), lr=.01)\n",
    "train_model()"
   ]
  },
  {
   "cell_type": "markdown",
   "id": "f6d31224",
   "metadata": {},
   "source": [
    "### Модель (RMSprop) + дополнительный слой + batch normalization"
   ]
  },
  {
   "cell_type": "code",
   "execution_count": 17,
   "id": "5475ae12",
   "metadata": {},
   "outputs": [],
   "source": [
    "model = torch.nn.Sequential(\n",
    "    torch.nn.Flatten(),\n",
    "    torch.nn.Linear(784, 512),\n",
    "    torch.nn.ReLU(),\n",
    "    torch.nn.BatchNorm1d(512),\n",
    "    torch.nn.Linear(512, 256),\n",
    "    torch.nn.ReLU(),\n",
    "    torch.nn.BatchNorm1d(256),\n",
    "    torch.nn.Linear(256, 128),\n",
    "    torch.nn.ReLU(),\n",
    "    torch.nn.BatchNorm1d(128),\n",
    "    torch.nn.Linear(128, 10)\n",
    ")"
   ]
  },
  {
   "cell_type": "code",
   "execution_count": 18,
   "id": "57c587dd",
   "metadata": {},
   "outputs": [
    {
     "name": "stdout",
     "output_type": "stream",
     "text": [
      "ep: 0, taked: 8.660, train_loss: 0.572, train_acc: 0.796, test_loss: 0.596, test_acc: 0.781\n",
      "ep: 1, taked: 8.532, train_loss: 0.387, train_acc: 0.856, test_loss: 0.610, test_acc: 0.794\n",
      "ep: 2, taked: 8.678, train_loss: 0.350, train_acc: 0.871, test_loss: 0.463, test_acc: 0.840\n",
      "ep: 3, taked: 8.171, train_loss: 0.321, train_acc: 0.881, test_loss: 0.621, test_acc: 0.798\n",
      "ep: 4, taked: 8.675, train_loss: 0.297, train_acc: 0.888, test_loss: 0.563, test_acc: 0.811\n",
      "ep: 5, taked: 8.492, train_loss: 0.280, train_acc: 0.895, test_loss: 0.419, test_acc: 0.854\n",
      "ep: 6, taked: 8.169, train_loss: 0.262, train_acc: 0.903, test_loss: 0.521, test_acc: 0.837\n",
      "ep: 7, taked: 8.208, train_loss: 0.250, train_acc: 0.906, test_loss: 0.472, test_acc: 0.848\n",
      "ep: 8, taked: 8.715, train_loss: 0.238, train_acc: 0.910, test_loss: 0.412, test_acc: 0.869\n",
      "ep: 9, taked: 8.427, train_loss: 0.228, train_acc: 0.914, test_loss: 0.404, test_acc: 0.860\n"
     ]
    }
   ],
   "source": [
    "trainer = torch.optim.RMSprop(model.parameters(), lr=.01)\n",
    "train_model()"
   ]
  },
  {
   "cell_type": "markdown",
   "id": "49cc8446",
   "metadata": {},
   "source": [
    "### Модель (Adam) + дополнительный слой + batch normalization + dropout"
   ]
  },
  {
   "cell_type": "code",
   "execution_count": 19,
   "id": "0d609281",
   "metadata": {},
   "outputs": [],
   "source": [
    "model = torch.nn.Sequential(\n",
    "    torch.nn.Flatten(),\n",
    "    torch.nn.Linear(784, 512),\n",
    "    torch.nn.BatchNorm1d(512),\n",
    "    torch.nn.ReLU(),\n",
    "    torch.nn.Dropout(0.2),\n",
    "    torch.nn.Linear(512, 256),\n",
    "    torch.nn.BatchNorm1d(256),\n",
    "    torch.nn.ReLU(),\n",
    "    torch.nn.Dropout(0.2),\n",
    "    torch.nn.Linear(256, 128),\n",
    "    torch.nn.BatchNorm1d(128),\n",
    "    torch.nn.ReLU(),\n",
    "    torch.nn.Linear(128, 10)\n",
    ")"
   ]
  },
  {
   "cell_type": "code",
   "execution_count": 20,
   "id": "a675da23",
   "metadata": {},
   "outputs": [
    {
     "name": "stdout",
     "output_type": "stream",
     "text": [
      "ep: 0, taked: 8.893, train_loss: 0.499, train_acc: 0.819, test_loss: 0.425, test_acc: 0.843\n",
      "ep: 1, taked: 9.415, train_loss: 0.375, train_acc: 0.863, test_loss: 0.378, test_acc: 0.858\n",
      "ep: 2, taked: 8.732, train_loss: 0.334, train_acc: 0.878, test_loss: 0.375, test_acc: 0.858\n",
      "ep: 3, taked: 8.675, train_loss: 0.310, train_acc: 0.886, test_loss: 0.342, test_acc: 0.873\n",
      "ep: 4, taked: 8.797, train_loss: 0.289, train_acc: 0.893, test_loss: 0.340, test_acc: 0.875\n",
      "ep: 5, taked: 8.874, train_loss: 0.274, train_acc: 0.897, test_loss: 0.355, test_acc: 0.867\n",
      "ep: 6, taked: 8.782, train_loss: 0.260, train_acc: 0.903, test_loss: 0.334, test_acc: 0.879\n",
      "ep: 7, taked: 8.658, train_loss: 0.247, train_acc: 0.908, test_loss: 0.334, test_acc: 0.880\n",
      "ep: 8, taked: 9.334, train_loss: 0.237, train_acc: 0.911, test_loss: 0.343, test_acc: 0.878\n",
      "ep: 9, taked: 8.779, train_loss: 0.229, train_acc: 0.914, test_loss: 0.330, test_acc: 0.885\n"
     ]
    }
   ],
   "source": [
    "trainer = torch.optim.Adam(model.parameters(), lr=.01)\n",
    "train_model()"
   ]
  }
 ],
 "metadata": {
  "kernelspec": {
   "display_name": "Python 3 (ipykernel)",
   "language": "python",
   "name": "python3"
  },
  "language_info": {
   "codemirror_mode": {
    "name": "ipython",
    "version": 3
   },
   "file_extension": ".py",
   "mimetype": "text/x-python",
   "name": "python",
   "nbconvert_exporter": "python",
   "pygments_lexer": "ipython3",
   "version": "3.9.13"
  }
 },
 "nbformat": 4,
 "nbformat_minor": 5
}
