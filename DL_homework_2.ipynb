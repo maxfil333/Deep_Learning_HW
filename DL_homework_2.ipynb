{
 "cells": [
  {
   "cell_type": "markdown",
   "id": "5b293d3c",
   "metadata": {},
   "source": [
    "Постройте модель на основе полносвязных слоёв для классификации Fashion MNIST из библиотеки torchvision.\n",
    "Получите качество на тестовой выборке не ниже 88%"
   ]
  },
  {
   "cell_type": "code",
   "execution_count": 23,
   "id": "4baf56d9",
   "metadata": {
    "scrolled": true
   },
   "outputs": [
    {
     "name": "stdout",
     "output_type": "stream",
     "text": [
      "Requirement already satisfied: torchvision in c:\\users\\admin\\anaconda3\\lib\\site-packages (0.15.2)\n",
      "Requirement already satisfied: torch==2.0.1 in c:\\users\\admin\\anaconda3\\lib\\site-packages (from torchvision) (2.0.1)\n",
      "Requirement already satisfied: pillow!=8.3.*,>=5.3.0 in c:\\users\\admin\\anaconda3\\lib\\site-packages (from torchvision) (9.2.0)\n",
      "Requirement already satisfied: numpy in c:\\users\\admin\\anaconda3\\lib\\site-packages (from torchvision) (1.23.5)\n",
      "Requirement already satisfied: requests in c:\\users\\admin\\anaconda3\\lib\\site-packages (from torchvision) (2.28.1)\n",
      "Requirement already satisfied: networkx in c:\\users\\admin\\anaconda3\\lib\\site-packages (from torch==2.0.1->torchvision) (2.8.4)\n",
      "Requirement already satisfied: jinja2 in c:\\users\\admin\\anaconda3\\lib\\site-packages (from torch==2.0.1->torchvision) (2.11.3)\n",
      "Requirement already satisfied: filelock in c:\\users\\admin\\anaconda3\\lib\\site-packages (from torch==2.0.1->torchvision) (3.6.0)\n",
      "Requirement already satisfied: sympy in c:\\users\\admin\\anaconda3\\lib\\site-packages (from torch==2.0.1->torchvision) (1.10.1)\n",
      "Requirement already satisfied: typing-extensions in c:\\users\\admin\\anaconda3\\lib\\site-packages (from torch==2.0.1->torchvision) (4.3.0)\n",
      "Requirement already satisfied: certifi>=2017.4.17 in c:\\users\\admin\\anaconda3\\lib\\site-packages (from requests->torchvision) (2022.9.14)\n",
      "Requirement already satisfied: urllib3<1.27,>=1.21.1 in c:\\users\\admin\\anaconda3\\lib\\site-packages (from requests->torchvision) (1.26.11)\n",
      "Requirement already satisfied: charset-normalizer<3,>=2 in c:\\users\\admin\\anaconda3\\lib\\site-packages (from requests->torchvision) (2.0.4)\n",
      "Requirement already satisfied: idna<4,>=2.5 in c:\\users\\admin\\anaconda3\\lib\\site-packages (from requests->torchvision) (3.3)\n",
      "Requirement already satisfied: MarkupSafe>=0.23 in c:\\users\\admin\\anaconda3\\lib\\site-packages (from jinja2->torch==2.0.1->torchvision) (2.0.1)\n",
      "Requirement already satisfied: mpmath>=0.19 in c:\\users\\admin\\anaconda3\\lib\\site-packages (from sympy->torch==2.0.1->torchvision) (1.2.1)\n"
     ]
    }
   ],
   "source": [
    "!pip install torchvision"
   ]
  },
  {
   "cell_type": "code",
   "execution_count": 36,
   "id": "f9eb1158",
   "metadata": {},
   "outputs": [],
   "source": [
    "import numpy as np\n",
    "import torch\n",
    "import torchvision as tv\n",
    "import time"
   ]
  },
  {
   "cell_type": "markdown",
   "id": "560d99e6",
   "metadata": {},
   "source": [
    "datasets: https://pytorch.org/vision/stable/datasets.html"
   ]
  },
  {
   "cell_type": "code",
   "execution_count": 25,
   "id": "7cfd6b3f",
   "metadata": {},
   "outputs": [],
   "source": [
    "BATCH_SIZE=256\n",
    "\n",
    "train_dataset = tv.datasets.FashionMNIST('.', train=True, transform=tv.transforms.ToTensor(), download=True)\n",
    "test_dataset = tv.datasets.FashionMNIST('.', train=False, transform=tv.transforms.ToTensor(), download=True)\n",
    "train = torch.utils.data.DataLoader(train_dataset, batch_size=BATCH_SIZE)\n",
    "test = torch.utils.data.DataLoader(test_dataset, batch_size=BATCH_SIZE)"
   ]
  },
  {
   "cell_type": "code",
   "execution_count": 26,
   "id": "58b7325e",
   "metadata": {},
   "outputs": [
    {
     "data": {
      "text/plain": [
       "{'T-shirt/top': 0,\n",
       " 'Trouser': 1,\n",
       " 'Pullover': 2,\n",
       " 'Dress': 3,\n",
       " 'Coat': 4,\n",
       " 'Sandal': 5,\n",
       " 'Shirt': 6,\n",
       " 'Sneaker': 7,\n",
       " 'Bag': 8,\n",
       " 'Ankle boot': 9}"
      ]
     },
     "execution_count": 26,
     "metadata": {},
     "output_type": "execute_result"
    }
   ],
   "source": [
    "train_dataset.class_to_idx"
   ]
  },
  {
   "cell_type": "code",
   "execution_count": 31,
   "id": "52c0e5b3",
   "metadata": {},
   "outputs": [
    {
     "data": {
      "text/plain": [
       "torch.Size([60000, 28, 28])"
      ]
     },
     "execution_count": 31,
     "metadata": {},
     "output_type": "execute_result"
    }
   ],
   "source": [
    "train_dataset.data.shape"
   ]
  },
  {
   "cell_type": "markdown",
   "id": "f56c87a5",
   "metadata": {},
   "source": [
    "### Базовая модель (SGD)"
   ]
  },
  {
   "cell_type": "code",
   "execution_count": 57,
   "id": "ad44eb1f",
   "metadata": {},
   "outputs": [],
   "source": [
    "model = torch.nn.Sequential(\n",
    "    torch.nn.Flatten(),\n",
    "    torch.nn.Linear(784, 256),\n",
    "    torch.nn.ReLU(),\n",
    "    torch.nn.Linear(256, 10)\n",
    ")"
   ]
  },
  {
   "cell_type": "code",
   "execution_count": 58,
   "id": "4b5bfd83",
   "metadata": {},
   "outputs": [
    {
     "data": {
      "text/plain": [
       "Sequential(\n",
       "  (0): Flatten(start_dim=1, end_dim=-1)\n",
       "  (1): Linear(in_features=784, out_features=256, bias=True)\n",
       "  (2): ReLU()\n",
       "  (3): Linear(in_features=256, out_features=10, bias=True)\n",
       ")"
      ]
     },
     "execution_count": 58,
     "metadata": {},
     "output_type": "execute_result"
    }
   ],
   "source": [
    "model"
   ]
  },
  {
   "cell_type": "code",
   "execution_count": 59,
   "id": "eecd369a",
   "metadata": {},
   "outputs": [],
   "source": [
    "loss = torch.nn.CrossEntropyLoss()\n",
    "trainer = torch.optim.SGD(model.parameters(), lr=.01)\n",
    "num_epochs = 10"
   ]
  },
  {
   "cell_type": "code",
   "execution_count": 60,
   "id": "811f50b4",
   "metadata": {},
   "outputs": [],
   "source": [
    "def train_model():\n",
    "    for ep in range(num_epochs):\n",
    "        train_iters, train_passed  = 0, 0\n",
    "        train_loss, train_acc = 0., 0.\n",
    "        start=time.time()\n",
    "        \n",
    "        model.train()\n",
    "        for X, y in train:\n",
    "            trainer.zero_grad()\n",
    "            y_pred = model(X)\n",
    "            l = loss(y_pred, y)\n",
    "            l.backward()\n",
    "            trainer.step()\n",
    "            train_loss += l.item()\n",
    "            train_acc += (y_pred.argmax(dim=1) == y).sum().item()\n",
    "            train_iters += 1\n",
    "            train_passed += len(X)\n",
    "        \n",
    "        test_iters, test_passed  = 0, 0\n",
    "        test_loss, test_acc = 0., 0.\n",
    "        model.eval()\n",
    "        for X, y in test:\n",
    "            y_pred = model(X)\n",
    "            l = loss(y_pred, y)\n",
    "            test_loss += l.item()\n",
    "            test_acc += (y_pred.argmax(dim=1) == y).sum().item()\n",
    "            test_iters += 1\n",
    "            test_passed += len(X)\n",
    "            \n",
    "        print(\"ep: {}, taked: {:.3f}, train_loss: {:.3f}, train_acc: {:.3f}, test_loss: {:.3f}, test_acc: {:.3f}\"\n",
    "              .format(ep, time.time() - start, \n",
    "                      train_loss / train_iters, \n",
    "                      train_acc / train_passed,\n",
    "                      test_loss / test_iters, \n",
    "                      test_acc / test_passed)\n",
    "             )"
   ]
  },
  {
   "cell_type": "code",
   "execution_count": 61,
   "id": "b3c237e7",
   "metadata": {},
   "outputs": [
    {
     "name": "stdout",
     "output_type": "stream",
     "text": [
      "ep: 0, taked: 7.077, train_loss: 1.737, train_acc: 0.581, test_loss: 1.281, test_acc: 0.646\n",
      "ep: 1, taked: 7.184, train_loss: 1.073, train_acc: 0.673, test_loss: 0.944, test_acc: 0.682\n",
      "ep: 2, taked: 6.856, train_loss: 0.863, train_acc: 0.711, test_loss: 0.816, test_acc: 0.716\n",
      "ep: 3, taked: 6.836, train_loss: 0.767, train_acc: 0.744, test_loss: 0.745, test_acc: 0.743\n",
      "ep: 4, taked: 7.085, train_loss: 0.708, train_acc: 0.764, test_loss: 0.697, test_acc: 0.759\n",
      "ep: 5, taked: 7.057, train_loss: 0.665, train_acc: 0.779, test_loss: 0.660, test_acc: 0.773\n",
      "ep: 6, taked: 6.786, train_loss: 0.633, train_acc: 0.791, test_loss: 0.632, test_acc: 0.783\n",
      "ep: 7, taked: 7.019, train_loss: 0.607, train_acc: 0.800, test_loss: 0.610, test_acc: 0.789\n",
      "ep: 8, taked: 6.928, train_loss: 0.586, train_acc: 0.806, test_loss: 0.592, test_acc: 0.796\n",
      "ep: 9, taked: 7.316, train_loss: 0.569, train_acc: 0.811, test_loss: 0.577, test_acc: 0.801\n"
     ]
    }
   ],
   "source": [
    "train_model()"
   ]
  },
  {
   "cell_type": "markdown",
   "id": "6fdd05d4",
   "metadata": {},
   "source": [
    "### Модель (Adam)"
   ]
  },
  {
   "cell_type": "code",
   "execution_count": 49,
   "id": "4c85d43f",
   "metadata": {},
   "outputs": [],
   "source": [
    "model = torch.nn.Sequential(\n",
    "    torch.nn.Flatten(),\n",
    "    torch.nn.Linear(784, 256),\n",
    "    torch.nn.ReLU(),\n",
    "    torch.nn.Linear(256, 10)\n",
    ")"
   ]
  },
  {
   "cell_type": "code",
   "execution_count": 50,
   "id": "75f11223",
   "metadata": {},
   "outputs": [
    {
     "name": "stdout",
     "output_type": "stream",
     "text": [
      "ep: 0, taked: 6.810, train_loss: 0.539, train_acc: 0.808, test_loss: 0.446, test_acc: 0.838\n",
      "ep: 1, taked: 6.707, train_loss: 0.380, train_acc: 0.862, test_loss: 0.417, test_acc: 0.848\n",
      "ep: 2, taked: 6.752, train_loss: 0.348, train_acc: 0.873, test_loss: 0.390, test_acc: 0.860\n",
      "ep: 3, taked: 8.012, train_loss: 0.326, train_acc: 0.881, test_loss: 0.405, test_acc: 0.862\n",
      "ep: 4, taked: 7.633, train_loss: 0.314, train_acc: 0.885, test_loss: 0.406, test_acc: 0.861\n",
      "ep: 5, taked: 7.103, train_loss: 0.303, train_acc: 0.888, test_loss: 0.403, test_acc: 0.861\n",
      "ep: 6, taked: 7.117, train_loss: 0.295, train_acc: 0.891, test_loss: 0.408, test_acc: 0.864\n",
      "ep: 7, taked: 7.356, train_loss: 0.285, train_acc: 0.895, test_loss: 0.387, test_acc: 0.868\n",
      "ep: 8, taked: 7.188, train_loss: 0.278, train_acc: 0.895, test_loss: 0.385, test_acc: 0.871\n",
      "ep: 9, taked: 7.193, train_loss: 0.276, train_acc: 0.899, test_loss: 0.380, test_acc: 0.871\n"
     ]
    }
   ],
   "source": [
    "trainer = torch.optim.Adam(model.parameters(), lr=.01)\n",
    "train_model()"
   ]
  },
  {
   "cell_type": "markdown",
   "id": "65a254a8",
   "metadata": {},
   "source": [
    "### Модель (Adam) + дополнительный слой"
   ]
  },
  {
   "cell_type": "code",
   "execution_count": 62,
   "id": "e2164b42",
   "metadata": {},
   "outputs": [],
   "source": [
    "model = torch.nn.Sequential(\n",
    "    torch.nn.Flatten(),\n",
    "    torch.nn.Linear(784, 512),\n",
    "    torch.nn.ReLU(),\n",
    "    torch.nn.Linear(512, 256),\n",
    "    torch.nn.ReLU(),\n",
    "    torch.nn.Linear(256, 128),\n",
    "    torch.nn.ReLU(),\n",
    "    torch.nn.Linear(128, 10)\n",
    ")"
   ]
  },
  {
   "cell_type": "code",
   "execution_count": 63,
   "id": "99cd78cd",
   "metadata": {},
   "outputs": [
    {
     "name": "stdout",
     "output_type": "stream",
     "text": [
      "ep: 0, taked: 8.452, train_loss: 0.613, train_acc: 0.774, test_loss: 0.433, test_acc: 0.839\n",
      "ep: 1, taked: 8.766, train_loss: 0.394, train_acc: 0.856, test_loss: 0.397, test_acc: 0.854\n",
      "ep: 2, taked: 8.972, train_loss: 0.363, train_acc: 0.865, test_loss: 0.398, test_acc: 0.856\n",
      "ep: 3, taked: 11.410, train_loss: 0.350, train_acc: 0.871, test_loss: 0.415, test_acc: 0.856\n",
      "ep: 4, taked: 10.099, train_loss: 0.325, train_acc: 0.879, test_loss: 0.409, test_acc: 0.865\n",
      "ep: 5, taked: 10.046, train_loss: 0.319, train_acc: 0.883, test_loss: 0.397, test_acc: 0.866\n",
      "ep: 6, taked: 10.548, train_loss: 0.302, train_acc: 0.888, test_loss: 0.412, test_acc: 0.859\n",
      "ep: 7, taked: 10.698, train_loss: 0.296, train_acc: 0.891, test_loss: 0.408, test_acc: 0.863\n",
      "ep: 8, taked: 10.068, train_loss: 0.288, train_acc: 0.893, test_loss: 0.396, test_acc: 0.870\n",
      "ep: 9, taked: 11.480, train_loss: 0.286, train_acc: 0.894, test_loss: 0.366, test_acc: 0.874\n"
     ]
    }
   ],
   "source": [
    "trainer = torch.optim.Adam(model.parameters(), lr=.01)\n",
    "train_model()"
   ]
  },
  {
   "cell_type": "markdown",
   "id": "466eeb17",
   "metadata": {},
   "source": [
    "### Модель (Adam) + дополнительный слой + batch normalization"
   ]
  },
  {
   "cell_type": "code",
   "execution_count": 64,
   "id": "2fa002b1",
   "metadata": {},
   "outputs": [],
   "source": [
    "model = torch.nn.Sequential(\n",
    "    torch.nn.Flatten(),\n",
    "    torch.nn.Linear(784, 512),\n",
    "    torch.nn.ReLU(),\n",
    "    torch.nn.BatchNorm1d(512),\n",
    "    torch.nn.Linear(512, 256),\n",
    "    torch.nn.ReLU(),\n",
    "    torch.nn.BatchNorm1d(256),\n",
    "    torch.nn.Linear(256, 128),\n",
    "    torch.nn.ReLU(),\n",
    "    torch.nn.BatchNorm1d(128),\n",
    "    torch.nn.Linear(128, 10)\n",
    ")"
   ]
  },
  {
   "cell_type": "code",
   "execution_count": 65,
   "id": "315a8e33",
   "metadata": {},
   "outputs": [
    {
     "name": "stdout",
     "output_type": "stream",
     "text": [
      "ep: 0, taked: 8.828, train_loss: 0.474, train_acc: 0.826, test_loss: 0.420, test_acc: 0.844\n",
      "ep: 1, taked: 8.502, train_loss: 0.370, train_acc: 0.864, test_loss: 0.559, test_acc: 0.848\n",
      "ep: 2, taked: 8.735, train_loss: 0.338, train_acc: 0.875, test_loss: 0.502, test_acc: 0.826\n",
      "ep: 3, taked: 9.053, train_loss: 0.316, train_acc: 0.883, test_loss: 0.396, test_acc: 0.857\n",
      "ep: 4, taked: 8.817, train_loss: 0.296, train_acc: 0.891, test_loss: 0.391, test_acc: 0.856\n",
      "ep: 5, taked: 9.243, train_loss: 0.284, train_acc: 0.896, test_loss: 0.395, test_acc: 0.857\n",
      "ep: 6, taked: 8.885, train_loss: 0.269, train_acc: 0.901, test_loss: 0.379, test_acc: 0.860\n",
      "ep: 7, taked: 8.772, train_loss: 0.260, train_acc: 0.903, test_loss: 0.352, test_acc: 0.871\n",
      "ep: 8, taked: 9.076, train_loss: 0.246, train_acc: 0.908, test_loss: 0.368, test_acc: 0.872\n",
      "ep: 9, taked: 9.215, train_loss: 0.234, train_acc: 0.913, test_loss: 0.358, test_acc: 0.876\n"
     ]
    }
   ],
   "source": [
    "trainer = torch.optim.Adam(model.parameters(), lr=.01)\n",
    "train_model()"
   ]
  },
  {
   "cell_type": "markdown",
   "id": "f6d31224",
   "metadata": {},
   "source": [
    "### Модель (RMSprop) + дополнительный слой + batch normalization"
   ]
  },
  {
   "cell_type": "code",
   "execution_count": 70,
   "id": "5475ae12",
   "metadata": {},
   "outputs": [],
   "source": [
    "model = torch.nn.Sequential(\n",
    "    torch.nn.Flatten(),\n",
    "    torch.nn.Linear(784, 512),\n",
    "    torch.nn.ReLU(),\n",
    "    torch.nn.BatchNorm1d(512),\n",
    "    torch.nn.Linear(512, 256),\n",
    "    torch.nn.ReLU(),\n",
    "    torch.nn.BatchNorm1d(256),\n",
    "    torch.nn.Linear(256, 128),\n",
    "    torch.nn.ReLU(),\n",
    "    torch.nn.BatchNorm1d(128),\n",
    "    torch.nn.Linear(128, 10)\n",
    ")"
   ]
  },
  {
   "cell_type": "code",
   "execution_count": 71,
   "id": "57c587dd",
   "metadata": {},
   "outputs": [
    {
     "name": "stdout",
     "output_type": "stream",
     "text": [
      "ep: 0, taked: 8.607, train_loss: 0.567, train_acc: 0.797, test_loss: 0.897, test_acc: 0.732\n",
      "ep: 1, taked: 8.571, train_loss: 0.386, train_acc: 0.856, test_loss: 0.780, test_acc: 0.741\n",
      "ep: 2, taked: 8.370, train_loss: 0.347, train_acc: 0.871, test_loss: 0.738, test_acc: 0.766\n",
      "ep: 3, taked: 8.647, train_loss: 0.322, train_acc: 0.881, test_loss: 0.546, test_acc: 0.802\n",
      "ep: 4, taked: 8.391, train_loss: 0.295, train_acc: 0.890, test_loss: 0.526, test_acc: 0.806\n",
      "ep: 5, taked: 8.371, train_loss: 0.282, train_acc: 0.895, test_loss: 0.435, test_acc: 0.841\n",
      "ep: 6, taked: 8.477, train_loss: 0.263, train_acc: 0.902, test_loss: 0.534, test_acc: 0.819\n",
      "ep: 7, taked: 8.175, train_loss: 0.252, train_acc: 0.906, test_loss: 0.510, test_acc: 0.836\n",
      "ep: 8, taked: 8.466, train_loss: 0.238, train_acc: 0.911, test_loss: 0.427, test_acc: 0.876\n",
      "ep: 9, taked: 8.146, train_loss: 0.229, train_acc: 0.914, test_loss: 0.447, test_acc: 0.857\n"
     ]
    }
   ],
   "source": [
    "trainer = torch.optim.RMSprop(model.parameters(), lr=.01)\n",
    "train_model()"
   ]
  },
  {
   "cell_type": "markdown",
   "id": "49cc8446",
   "metadata": {},
   "source": [
    "### Модель (Adam) + дополнительный слой + batch normalization + dropout"
   ]
  },
  {
   "cell_type": "code",
   "execution_count": 76,
   "id": "0d609281",
   "metadata": {},
   "outputs": [],
   "source": [
    "model = torch.nn.Sequential(\n",
    "    torch.nn.Flatten(),\n",
    "    torch.nn.Linear(784, 512),\n",
    "    torch.nn.BatchNorm1d(512),\n",
    "    torch.nn.ReLU(),\n",
    "    torch.nn.Dropout(0.2),\n",
    "    torch.nn.Linear(512, 256),\n",
    "    torch.nn.BatchNorm1d(256),\n",
    "    torch.nn.ReLU(),\n",
    "    torch.nn.Dropout(0.2),\n",
    "    torch.nn.Linear(256, 128),\n",
    "    torch.nn.BatchNorm1d(128),\n",
    "    torch.nn.ReLU(),\n",
    "    torch.nn.Linear(128, 10)\n",
    ")"
   ]
  },
  {
   "cell_type": "code",
   "execution_count": 77,
   "id": "a675da23",
   "metadata": {},
   "outputs": [
    {
     "name": "stdout",
     "output_type": "stream",
     "text": [
      "ep: 0, taked: 8.792, train_loss: 0.495, train_acc: 0.819, test_loss: 0.404, test_acc: 0.850\n",
      "ep: 1, taked: 8.606, train_loss: 0.372, train_acc: 0.864, test_loss: 0.382, test_acc: 0.855\n",
      "ep: 2, taked: 8.598, train_loss: 0.334, train_acc: 0.877, test_loss: 0.368, test_acc: 0.860\n",
      "ep: 3, taked: 9.073, train_loss: 0.308, train_acc: 0.886, test_loss: 0.353, test_acc: 0.869\n",
      "ep: 4, taked: 8.651, train_loss: 0.290, train_acc: 0.893, test_loss: 0.326, test_acc: 0.880\n",
      "ep: 5, taked: 8.811, train_loss: 0.275, train_acc: 0.897, test_loss: 0.334, test_acc: 0.876\n",
      "ep: 6, taked: 8.773, train_loss: 0.259, train_acc: 0.904, test_loss: 0.324, test_acc: 0.883\n",
      "ep: 7, taked: 8.900, train_loss: 0.248, train_acc: 0.908, test_loss: 0.324, test_acc: 0.885\n",
      "ep: 8, taked: 9.130, train_loss: 0.235, train_acc: 0.911, test_loss: 0.319, test_acc: 0.886\n",
      "ep: 9, taked: 8.644, train_loss: 0.226, train_acc: 0.915, test_loss: 0.321, test_acc: 0.888\n"
     ]
    }
   ],
   "source": [
    "trainer = torch.optim.Adam(model.parameters(), lr=.01)\n",
    "train_model()"
   ]
  }
 ],
 "metadata": {
  "kernelspec": {
   "display_name": "Python 3 (ipykernel)",
   "language": "python",
   "name": "python3"
  },
  "language_info": {
   "codemirror_mode": {
    "name": "ipython",
    "version": 3
   },
   "file_extension": ".py",
   "mimetype": "text/x-python",
   "name": "python",
   "nbconvert_exporter": "python",
   "pygments_lexer": "ipython3",
   "version": "3.9.13"
  }
 },
 "nbformat": 4,
 "nbformat_minor": 5
}
