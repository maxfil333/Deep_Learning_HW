{
 "cells": [
  {
   "cell_type": "code",
   "execution_count": 1,
   "id": "5b535628",
   "metadata": {},
   "outputs": [],
   "source": [
    "import torch\n",
    "import torch.nn as nn\n",
    "import torch.optim as optim\n",
    "import torchvision as tv\n",
    "import torchvision.transforms as transforms\n",
    "import time\n",
    "import matplotlib.pyplot as plt"
   ]
  },
  {
   "cell_type": "code",
   "execution_count": 2,
   "id": "0babad48",
   "metadata": {},
   "outputs": [
    {
     "data": {
      "text/plain": [
       "device(type='cuda')"
      ]
     },
     "execution_count": 2,
     "metadata": {},
     "output_type": "execute_result"
    }
   ],
   "source": [
    "# Задаем устройство, на котором будем выполнять вычисления (CPU или GPU, если доступен)\n",
    "device = torch.device(\"cuda\" if torch.cuda.is_available() else \"cpu\")\n",
    "device"
   ]
  },
  {
   "cell_type": "code",
   "execution_count": 3,
   "id": "b773e5f7",
   "metadata": {},
   "outputs": [],
   "source": [
    "# 60_000 примеров по 256 шт = 235 батчей\n",
    "BATCH_SIZE=256\n",
    "\n",
    "train_dataset = tv.datasets.FashionMNIST('.', train=True, transform=tv.transforms.ToTensor(), download=True)\n",
    "test_dataset = tv.datasets.FashionMNIST('.', train=False, transform=tv.transforms.ToTensor(), download=True)\n",
    "trainloader = torch.utils.data.DataLoader(train_dataset, batch_size=BATCH_SIZE)\n",
    "testloader = torch.utils.data.DataLoader(test_dataset, batch_size=BATCH_SIZE)"
   ]
  },
  {
   "cell_type": "code",
   "execution_count": 4,
   "id": "3236d501",
   "metadata": {},
   "outputs": [
    {
     "name": "stdout",
     "output_type": "stream",
     "text": [
      "{'T-shirt/top': 0, 'Trouser': 1, 'Pullover': 2, 'Dress': 3, 'Coat': 4, 'Sandal': 5, 'Shirt': 6, 'Sneaker': 7, 'Bag': 8, 'Ankle boot': 9}\n",
      "\n",
      "torch.Size([60000, 28, 28])\n"
     ]
    }
   ],
   "source": [
    "print(train_dataset.class_to_idx, train_dataset.data.shape, sep='\\n\\n')"
   ]
  },
  {
   "cell_type": "code",
   "execution_count": 5,
   "id": "1fca3d05",
   "metadata": {
    "scrolled": false
   },
   "outputs": [
    {
     "data": {
      "image/png": "[encoded data removed]",
      "text/plain": [
       "<Figure size 640x480 with 1 Axes>"
      ]
     },
     "metadata": {},
     "output_type": "display_data"
    }
   ],
   "source": [
    "img = train_dataset[666]\n",
    "plt.imshow(img[0].numpy().reshape(28,28), cmap='gray');\n",
    "plt.title(tuple(train_dataset.class_to_idx.keys())[img[1]])\n",
    "plt.show()"
   ]
  },
  {
   "cell_type": "code",
   "execution_count": 6,
   "id": "6341ed1f",
   "metadata": {},
   "outputs": [],
   "source": [
    "import torch\n",
    "import torch.nn as nn\n",
    "\n",
    "# Определяем архитектуру модели\n",
    "class ConvNet(nn.Module):\n",
    "    def __init__(self):\n",
    "        super(ConvNet, self).__init__()\n",
    "\n",
    "        self.conv1 = nn.Conv2d(1, 32, kernel_size=3, padding=1)\n",
    "        self.bn1 = nn.BatchNorm2d(32)\n",
    "        self.relu1 = nn.ReLU()\n",
    "        self.pool1 = nn.MaxPool2d(2, 2)\n",
    "        self.dropout1 = nn.Dropout2d(0.25)\n",
    "\n",
    "        self.conv2 = nn.Conv2d(32, 64, kernel_size=3, padding=1)\n",
    "        self.bn2 = nn.BatchNorm2d(64)\n",
    "        self.relu2 = nn.ReLU()\n",
    "        self.pool2 = nn.MaxPool2d(2, 2)\n",
    "        self.dropout2 = nn.Dropout2d(0.25)\n",
    "\n",
    "        self.conv3 = nn.Conv2d(64, 128, kernel_size=3, padding=1)\n",
    "        self.bn3 = nn.BatchNorm2d(128)\n",
    "        self.relu3 = nn.ReLU()\n",
    "        self.pool3 = nn.MaxPool2d(2, 2)\n",
    "        self.dropout3 = nn.Dropout2d(0.25)\n",
    "\n",
    "        self.fc1 = nn.Linear(128 * 3 * 3, 128)\n",
    "        self.bn4 = nn.BatchNorm1d(128)\n",
    "        self.relu4 = nn.ReLU()\n",
    "        self.dropout4 = nn.Dropout(0.5)\n",
    "\n",
    "        self.fc2 = nn.Linear(128, 10)\n",
    "\n",
    "    def forward(self, x):\n",
    "        x = self.conv1(x)\n",
    "        x = self.bn1(x)\n",
    "        x = self.relu1(x)\n",
    "        x = self.pool1(x)\n",
    "        x = self.dropout1(x)\n",
    "\n",
    "        x = self.conv2(x)\n",
    "        x = self.bn2(x)\n",
    "        x = self.relu2(x)\n",
    "        x = self.pool2(x)\n",
    "        x = self.dropout2(x)\n",
    "\n",
    "        x = self.conv3(x)\n",
    "        x = self.bn3(x)\n",
    "        x = self.relu3(x)\n",
    "        x = self.pool3(x)\n",
    "        x = self.dropout3(x)\n",
    "\n",
    "        x = x.view(x.size(0), -1)\n",
    "\n",
    "        x = self.fc1(x)\n",
    "        x = self.bn4(x)\n",
    "        x = self.relu4(x)\n",
    "        x = self.dropout4(x)\n",
    "\n",
    "        x = self.fc2(x)\n",
    "\n",
    "        return x"
   ]
  },
  {
   "cell_type": "code",
   "execution_count": 7,
   "id": "d00ed6be",
   "metadata": {},
   "outputs": [],
   "source": [
    "# Инициализируем модель и отправляем ее на устройство\n",
    "model = ConvNet().to(device)\n",
    "\n",
    "# Определяем функцию потерь и оптимизатор\n",
    "criterion = nn.CrossEntropyLoss()\n",
    "optimizer = optim.Adam(model.parameters(), lr=0.001)"
   ]
  },
  {
   "cell_type": "code",
   "execution_count": 8,
   "id": "38c7c1c1",
   "metadata": {},
   "outputs": [
    {
     "name": "stdout",
     "output_type": "stream",
     "text": [
      "Epoch [1/15], Step [100/235], Loss: 0.8755\n",
      "Epoch [1/15], Step [200/235], Loss: 0.4973\n",
      "11.0 sec\n",
      "Epoch [2/15], Step [100/235], Loss: 0.4038\n",
      "Epoch [2/15], Step [200/235], Loss: 0.3791\n",
      "9.4 sec\n",
      "Epoch [3/15], Step [100/235], Loss: 0.3493\n",
      "Epoch [3/15], Step [200/235], Loss: 0.3325\n",
      "9.2 sec\n",
      "Epoch [4/15], Step [100/235], Loss: 0.3134\n",
      "Epoch [4/15], Step [200/235], Loss: 0.3081\n",
      "8.8 sec\n",
      "Epoch [5/15], Step [100/235], Loss: 0.2909\n",
      "Epoch [5/15], Step [200/235], Loss: 0.2861\n",
      "8.5 sec\n",
      "Epoch [6/15], Step [100/235], Loss: 0.2779\n",
      "Epoch [6/15], Step [200/235], Loss: 0.2710\n",
      "9.3 sec\n",
      "Epoch [7/15], Step [100/235], Loss: 0.2639\n",
      "Epoch [7/15], Step [200/235], Loss: 0.2678\n",
      "9.2 sec\n",
      "Epoch [8/15], Step [100/235], Loss: 0.2563\n",
      "Epoch [8/15], Step [200/235], Loss: 0.2555\n",
      "9.2 sec\n",
      "Epoch [9/15], Step [100/235], Loss: 0.2477\n",
      "Epoch [9/15], Step [200/235], Loss: 0.2422\n",
      "9.3 sec\n",
      "Epoch [10/15], Step [100/235], Loss: 0.2378\n",
      "Epoch [10/15], Step [200/235], Loss: 0.2393\n",
      "9.1 sec\n",
      "Epoch [11/15], Step [100/235], Loss: 0.2311\n",
      "Epoch [11/15], Step [200/235], Loss: 0.2301\n",
      "9.2 sec\n",
      "Epoch [12/15], Step [100/235], Loss: 0.2227\n",
      "Epoch [12/15], Step [200/235], Loss: 0.2280\n",
      "9.2 sec\n",
      "Epoch [13/15], Step [100/235], Loss: 0.2220\n",
      "Epoch [13/15], Step [200/235], Loss: 0.2242\n",
      "9.3 sec\n",
      "Epoch [14/15], Step [100/235], Loss: 0.2117\n",
      "Epoch [14/15], Step [200/235], Loss: 0.2136\n",
      "9.1 sec\n",
      "Epoch [15/15], Step [100/235], Loss: 0.2098\n",
      "Epoch [15/15], Step [200/235], Loss: 0.2135\n",
      "9.2 sec\n",
      "Training finished.\n"
     ]
    }
   ],
   "source": [
    "# Обучение модели\n",
    "num_epochs = 15\n",
    "\n",
    "for epoch in range(num_epochs):\n",
    "    running_loss = 0.0\n",
    "    start = time.perf_counter()\n",
    "    for i, data in enumerate(trainloader):\n",
    "        inputs, labels = data[0].to(device), data[1].to(device)\n",
    "        \n",
    "        optimizer.zero_grad()\n",
    "        \n",
    "        outputs = model(inputs)\n",
    "        loss = criterion(outputs, labels)\n",
    "        loss.backward()\n",
    "        optimizer.step()\n",
    "        \n",
    "        running_loss += loss.item()\n",
    "        \n",
    "        if (i+1) % 100 == 0:\n",
    "            print(f\"Epoch [{epoch+1}/{num_epochs}], Step [{i+1}/{len(trainloader)}], Loss: {running_loss/100:.4f}\")\n",
    "            running_loss = 0.0\n",
    "    print(f'{time.perf_counter() - start:.1f} sec')\n",
    "    \n",
    "\n",
    "print(\"Training finished.\")"
   ]
  },
  {
   "cell_type": "code",
   "execution_count": 9,
   "id": "434849aa",
   "metadata": {},
   "outputs": [
    {
     "name": "stdout",
     "output_type": "stream",
     "text": [
      "Accuracy on test set: 90.32%\n"
     ]
    }
   ],
   "source": [
    "# Оценка модели на тестовом наборе данных\n",
    "correct = 0\n",
    "total = 0\n",
    "\n",
    "with torch.no_grad():\n",
    "    for data in testloader:\n",
    "        images, labels = data[0].to(device), data[1].to(device)\n",
    "        outputs = model(images)\n",
    "        _, predicted = torch.max(outputs.data, 1)\n",
    "        total += labels.size(0)\n",
    "        correct += (predicted == labels).sum().item()\n",
    "\n",
    "accuracy = 100 * correct / total\n",
    "print(f\"Accuracy on test set: {accuracy}%\")"
   ]
  }
 ],
 "metadata": {
  "kernelspec": {
   "display_name": "Python 3 (ipykernel)",
   "language": "python",
   "name": "python3"
  },
  "language_info": {
   "codemirror_mode": {
    "name": "ipython",
    "version": 3
   },
   "file_extension": ".py",
   "mimetype": "text/x-python",
   "name": "python",
   "nbconvert_exporter": "python",
   "pygments_lexer": "ipython3",
   "version": "3.9.13"
  }
 },
 "nbformat": 4,
 "nbformat_minor": 5
}
